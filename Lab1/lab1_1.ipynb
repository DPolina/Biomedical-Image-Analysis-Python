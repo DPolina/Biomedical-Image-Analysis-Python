{
 "cells": [
  {
   "cell_type": "code",
   "execution_count": 58,
   "metadata": {},
   "outputs": [],
   "source": [
    "import numpy as np"
   ]
  },
  {
   "cell_type": "code",
   "execution_count": 59,
   "metadata": {},
   "outputs": [
    {
     "name": "stdout",
     "output_type": "stream",
     "text": [
      "A: [ 19.64563   7.67632 -17.85706  -3.81852  -5.49417 -17.5732  -19.82834\n",
      "  -0.19146 -15.60233  -2.57111]\n",
      "\n",
      "Максимальный элемент массива: 19.64563\n"
     ]
    }
   ],
   "source": [
    "# Вариант 5. Задание 1\n",
    "\n",
    "n = 10\n",
    "A = np.random.uniform(-20, 20, n)\n",
    "print(f\"A: {A.round(5)}\\n\")\n",
    "\n",
    "# 1. Максимальный элемент массива\n",
    "max_element = np.max(A)\n",
    "print(f\"Максимальный элемент массива: {max_element.round(5)}\")"
   ]
  },
  {
   "cell_type": "code",
   "execution_count": 60,
   "metadata": {},
   "outputs": [
    {
     "name": "stdout",
     "output_type": "stream",
     "text": [
      "Сумма элементов до последнего положительного элемента: 19.64563\n"
     ]
    }
   ],
   "source": [
    "# 2. Сумма элементов массива до последнего положительного элемента\n",
    "last_positive_index = np.where(A > 0)[0][-1] if np.any(A > 0) else -1\n",
    "sum_before_last_positive = np.sum(A[:last_positive_index]) if last_positive_index != -1 else 0\n",
    "print(f\"Сумма элементов до последнего положительного элемента: {sum_before_last_positive.round(5)}\")"
   ]
  },
  {
   "cell_type": "code",
   "execution_count": 61,
   "metadata": {},
   "outputs": [
    {
     "name": "stdout",
     "output_type": "stream",
     "text": [
      "Сжатый массив: [ 19.64563   7.67632 -17.85706  -5.49417 -17.5732  -19.82834 -15.60233]\n"
     ]
    }
   ],
   "source": [
    "# 3. Сжатие массива, удаление элементов с модулем в интервале [a, b]\n",
    "a, b = 0, 5\n",
    "mask = (np.abs(A) < a) | (np.abs(A) > b)\n",
    "A_compressed = A[mask]\n",
    "\n",
    "# Заполнение оставшихся мест нулями\n",
    "compressed_array = np.concatenate([A_compressed, np.zeros(n - len(A_compressed))])\n",
    "print(f\"Сжатый массив: {A_compressed.round(5)}\")"
   ]
  },
  {
   "cell_type": "code",
   "execution_count": 63,
   "metadata": {},
   "outputs": [
    {
     "name": "stdout",
     "output_type": "stream",
     "text": [
      "Matrix: \n",
      "[[  4  -2  -7  -2]\n",
      " [ -8   8  -6   6]\n",
      " [  7   8 -10   0]\n",
      " [  3   4  -4   0]\n",
      " [  4   9  -1   8]]\n",
      "\n",
      "Количество столбцов с хотя бы одним нулевым элементом: 1\n"
     ]
    }
   ],
   "source": [
    "# Задание 2.\n",
    "\n",
    "m, n = 5, 4\n",
    "\n",
    "matrix = np.random.randint(-10, 10, (m, n))\n",
    "print(f\"Matrix: \\n{matrix.round(3)}\\n\")\n",
    "\n",
    "zero_columns_count = np.sum(np.any(matrix == 0, axis = 0))\n",
    "print(f\"Количество столбцов с хотя бы одним нулевым элементом: {zero_columns_count}\")"
   ]
  }
 ],
 "metadata": {
  "kernelspec": {
   "display_name": "Python 3",
   "language": "python",
   "name": "python3"
  },
  "language_info": {
   "codemirror_mode": {
    "name": "ipython",
    "version": 3
   },
   "file_extension": ".py",
   "mimetype": "text/x-python",
   "name": "python",
   "nbconvert_exporter": "python",
   "pygments_lexer": "ipython3",
   "version": "3.11.9"
  }
 },
 "nbformat": 4,
 "nbformat_minor": 2
}
